{
 "cells": [
  {
   "cell_type": "code",
   "execution_count": 1,
   "id": "6d1e931c-8ad0-4144-ad24-1b28a5fa9b13",
   "metadata": {},
   "outputs": [],
   "source": [
    "import numpy as np\n",
    "import pandas as pd\n",
    "import xarray as xr\n",
    "import matplotlib.pyplot as plt\n",
    "profiler_url = 'OSMC_30day_47fe_5473_de5a.csv'"
   ]
  },
  {
   "cell_type": "code",
   "execution_count": 11,
   "id": "d0ef704a-23f2-44fc-8a6a-02d3428b7077",
   "metadata": {
    "tags": []
   },
   "outputs": [
    {
     "name": "stdout",
     "output_type": "stream",
     "text": [
      "Index(['platform_code', 'time', 'latitude', 'longitude', 'observation_depth',\n",
      "       'ztmp', 'zsal'],\n",
      "      dtype='object')\n",
      "2063\n"
     ]
    }
   ],
   "source": [
    "pro_df = pd.read_csv('OSMC_30day_47fe_5473_de5a.csv')\n",
    "df_rows = len(pro_df)\n",
    "df_columns = pro_df.columns\n",
    "print(pro_df.columns)\n",
    "print(df_rows)"
   ]
  },
  {
   "cell_type": "code",
   "execution_count": null,
   "id": "10f839be-e48a-43ff-b13d-6f03e5d1e7fb",
   "metadata": {
    "tags": []
   },
   "outputs": [],
   "source": [
    "pro_df.describe()\n",
    "display(pro_df)"
   ]
  },
  {
   "cell_type": "code",
   "execution_count": null,
   "id": "74e09a7a-fe30-433c-87c7-5b754e19be0a",
   "metadata": {
    "tags": []
   },
   "outputs": [],
   "source": [
    "fig,ax = plt.subplots(1, 2, figsize=(14,4))\n",
    "\n",
    "ax[0].plot(pro_df['observation_depth'], aug_df['zsal'], c='red', linestyle='-', linewidth=2, marker=None, label= 'Salinity')\n",
    "ax[0].legend(loc='upper right',shadow=True, fontsize='large')\n",
    "ax[0].grid()\n",
    "ax[0].set_title('CDM vs Depth', fontsize= 16)\n",
    "ax[0].set_xlabel('CDM(ppb)', fontsize=12)\n",
    "ax[0].set_ylabel('Depth(dbar)', fontsize=12)\n",
    "ax[0].invert_yaxis()"
   ]
  },
  {
   "cell_type": "code",
   "execution_count": null,
   "id": "b2ee7fc5-00f2-4a39-bd4f-78d8a4de98e5",
   "metadata": {},
   "outputs": [],
   "source": []
  },
  {
   "cell_type": "code",
   "execution_count": null,
   "id": "d623fe80-a886-4310-a1a0-e878a2e3092b",
   "metadata": {},
   "outputs": [],
   "source": []
  }
 ],
 "metadata": {
  "kernelspec": {
   "display_name": "Python 3 (ipykernel)",
   "language": "python",
   "name": "python3"
  },
  "language_info": {
   "codemirror_mode": {
    "name": "ipython",
    "version": 3
   },
   "file_extension": ".py",
   "mimetype": "text/x-python",
   "name": "python",
   "nbconvert_exporter": "python",
   "pygments_lexer": "ipython3",
   "version": "3.10.10"
  }
 },
 "nbformat": 4,
 "nbformat_minor": 5
}
