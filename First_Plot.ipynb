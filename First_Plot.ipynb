{
 "cells": [
  {
   "cell_type": "code",
   "execution_count": 14,
   "id": "6d1e931c-8ad0-4144-ad24-1b28a5fa9b13",
   "metadata": {},
   "outputs": [],
   "source": [
    "import numpy as np\n",
    "import pandas as pd\n",
    "import xarray as xr\n",
    "import matplotlib.pyplot as plt\n",
    "profiler_url = 'OSMC_30day_47fe_5473_de5a.csv'"
   ]
  },
  {
   "cell_type": "code",
   "execution_count": 15,
   "id": "d0ef704a-23f2-44fc-8a6a-02d3428b7077",
   "metadata": {
    "tags": []
   },
   "outputs": [
    {
     "name": "stdout",
     "output_type": "stream",
     "text": [
      "Index(['platform_code', 'time', 'latitude', 'longitude', 'observation_depth',\n",
      "       'ztmp', 'zsal'],\n",
      "      dtype='object')\n",
      "2063\n"
     ]
    }
   ],
   "source": [
    "pro_df = pd.read_csv('OSMC_30day_47fe_5473_de5a.csv')\n",
    "df_rows = len(pro_df)\n",
    "df_columns = pro_df.columns\n",
    "print(pro_df.columns)\n",
    "print(df_rows)"
   ]
  },
  {
   "cell_type": "code",
   "execution_count": 35,
   "id": "10f839be-e48a-43ff-b13d-6f03e5d1e7fb",
   "metadata": {
    "tags": []
   },
   "outputs": [
    {
     "data": {
      "text/html": [
       "<div>\n",
       "<style scoped>\n",
       "    .dataframe tbody tr th:only-of-type {\n",
       "        vertical-align: middle;\n",
       "    }\n",
       "\n",
       "    .dataframe tbody tr th {\n",
       "        vertical-align: top;\n",
       "    }\n",
       "\n",
       "    .dataframe thead th {\n",
       "        text-align: right;\n",
       "    }\n",
       "</style>\n",
       "<table border=\"1\" class=\"dataframe\">\n",
       "  <thead>\n",
       "    <tr style=\"text-align: right;\">\n",
       "      <th></th>\n",
       "      <th>platform_code</th>\n",
       "      <th>observation_depth</th>\n",
       "      <th>zsal</th>\n",
       "    </tr>\n",
       "  </thead>\n",
       "  <tbody>\n",
       "    <tr>\n",
       "      <th>count</th>\n",
       "      <td>2062.0</td>\n",
       "      <td>2062.000000</td>\n",
       "      <td>2062.00000</td>\n",
       "    </tr>\n",
       "    <tr>\n",
       "      <th>mean</th>\n",
       "      <td>4902936.0</td>\n",
       "      <td>750.475606</td>\n",
       "      <td>34.05856</td>\n",
       "    </tr>\n",
       "    <tr>\n",
       "      <th>std</th>\n",
       "      <td>0.0</td>\n",
       "      <td>505.169385</td>\n",
       "      <td>0.46562</td>\n",
       "    </tr>\n",
       "    <tr>\n",
       "      <th>min</th>\n",
       "      <td>4902936.0</td>\n",
       "      <td>3.200000</td>\n",
       "      <td>32.70000</td>\n",
       "    </tr>\n",
       "    <tr>\n",
       "      <th>25%</th>\n",
       "      <td>4902936.0</td>\n",
       "      <td>343.000000</td>\n",
       "      <td>33.91000</td>\n",
       "    </tr>\n",
       "    <tr>\n",
       "      <th>50%</th>\n",
       "      <td>4902936.0</td>\n",
       "      <td>683.050000</td>\n",
       "      <td>34.22000</td>\n",
       "    </tr>\n",
       "    <tr>\n",
       "      <th>75%</th>\n",
       "      <td>4902936.0</td>\n",
       "      <td>1022.150000</td>\n",
       "      <td>34.37000</td>\n",
       "    </tr>\n",
       "    <tr>\n",
       "      <th>max</th>\n",
       "      <td>4902936.0</td>\n",
       "      <td>1964.700000</td>\n",
       "      <td>34.58000</td>\n",
       "    </tr>\n",
       "  </tbody>\n",
       "</table>\n",
       "</div>"
      ],
      "text/plain": [
       "       platform_code  observation_depth        zsal\n",
       "count         2062.0        2062.000000  2062.00000\n",
       "mean       4902936.0         750.475606    34.05856\n",
       "std              0.0         505.169385     0.46562\n",
       "min        4902936.0           3.200000    32.70000\n",
       "25%        4902936.0         343.000000    33.91000\n",
       "50%        4902936.0         683.050000    34.22000\n",
       "75%        4902936.0        1022.150000    34.37000\n",
       "max        4902936.0        1964.700000    34.58000"
      ]
     },
     "execution_count": 35,
     "metadata": {},
     "output_type": "execute_result"
    }
   ],
   "source": [
    "pro_df.describe()\n",
    "#display(pro_df)"
   ]
  },
  {
   "cell_type": "code",
   "execution_count": 34,
   "id": "74e09a7a-fe30-433c-87c7-5b754e19be0a",
   "metadata": {
    "tags": []
   },
   "outputs": [
    {
     "ename": "TypeError",
     "evalue": "'RangeIndex' object is not callable",
     "output_type": "error",
     "traceback": [
      "\u001b[0;31m---------------------------------------------------------------------------\u001b[0m",
      "\u001b[0;31mTypeError\u001b[0m                                 Traceback (most recent call last)",
      "Cell \u001b[0;32mIn[34], line 12\u001b[0m\n\u001b[1;32m     10\u001b[0m fig,axs\u001b[38;5;241m=\u001b[39mplt\u001b[38;5;241m.\u001b[39msubplots(figsize\u001b[38;5;241m=\u001b[39m(\u001b[38;5;241m10\u001b[39m,\u001b[38;5;241m6\u001b[39m))\n\u001b[1;32m     11\u001b[0m \u001b[38;5;66;03m#first plot ttemperature data\u001b[39;00m\n\u001b[0;32m---> 12\u001b[0m x\u001b[38;5;241m=\u001b[39m\u001b[43mpro_df\u001b[49m\u001b[38;5;241;43m.\u001b[39;49m\u001b[43mindex\u001b[49m\u001b[43m(\u001b[49m\u001b[38;5;124;43m'\u001b[39;49m\u001b[38;5;124;43mobservation_depth\u001b[39;49m\u001b[38;5;124;43m'\u001b[39;49m\u001b[43m)\u001b[49m\n\u001b[1;32m     13\u001b[0m y1\u001b[38;5;241m=\u001b[39mpro_df[\u001b[38;5;124m'\u001b[39m\u001b[38;5;124mztmp\u001b[39m\u001b[38;5;124m'\u001b[39m]\n\u001b[1;32m     14\u001b[0m y2\u001b[38;5;241m=\u001b[39mgroupby_g5[\u001b[38;5;124m'\u001b[39m\u001b[38;5;124mzsal\u001b[39m\u001b[38;5;124m'\u001b[39m]\n",
      "\u001b[0;31mTypeError\u001b[0m: 'RangeIndex' object is not callable"
     ]
    },
    {
     "data": {
      "image/png": "[encoded data removed]",
      "text/plain": [
       "<Figure size 1000x600 with 1 Axes>"
      ]
     },
     "metadata": {},
     "output_type": "display_data"
    }
   ],
   "source": [
    "\n",
    "# store rows where time == \"2017-08-04 17:00:00\" here\n",
    "#aug_df = pro_df.loc[pro_df['time'] == '2017-08-04 17:00:00']\n",
    "#display(aug_df)\n",
    "# store rows where time == \"2017-12-08 17:00:00\" here\n",
    "#dec_df = pro_df.loc[pro_df['time'] == '2017-12-08 17:00:00']\n",
    "#display(dec_df)\n",
    "\n",
    "## PART 4\n",
    "# create your plot\n",
    "fig,axs=plt.subplots(figsize=(10,6))\n",
    "#first plot ttemperature data\n",
    "x=pro_df.index('observation_depth')\n",
    "y1=pro_df['ztmp']\n",
    "y2=groupby_g5['zsal']\n",
    "axs.plot(x,y1,marker='.', label='Temperature')\n",
    "#plot salinity\n",
    "#axs.plot(x,y2,marker='.', color='red')\n",
    "# add labels\n",
    "axs.set_xlabel('Depth')\n",
    "axs.set_ylabel('Temperature')\n",
    "# create secondary y axis\n",
    "twinax = axs.twinx()\n",
    "twinax.plot(x,y2, marker='.', color='red', label='Salinity')\n",
    "twinax.set_ylabel('Salinity')\n",
    "# create a legend\n",
    "fig.legend(loc='upper right')"
   ]
  },
  {
   "cell_type": "code",
   "execution_count": 30,
   "id": "b2ee7fc5-00f2-4a39-bd4f-78d8a4de98e5",
   "metadata": {
    "tags": []
   },
   "outputs": [
    {
     "data": {
      "text/html": [
       "<div>\n",
       "<style scoped>\n",
       "    .dataframe tbody tr th:only-of-type {\n",
       "        vertical-align: middle;\n",
       "    }\n",
       "\n",
       "    .dataframe tbody tr th {\n",
       "        vertical-align: top;\n",
       "    }\n",
       "\n",
       "    .dataframe thead th {\n",
       "        text-align: right;\n",
       "    }\n",
       "</style>\n",
       "<table border=\"1\" class=\"dataframe\">\n",
       "  <thead>\n",
       "    <tr style=\"text-align: right;\">\n",
       "      <th></th>\n",
       "      <th>platform_code</th>\n",
       "      <th>zsal</th>\n",
       "    </tr>\n",
       "    <tr>\n",
       "      <th>observation_depth</th>\n",
       "      <th></th>\n",
       "      <th></th>\n",
       "    </tr>\n",
       "  </thead>\n",
       "  <tbody>\n",
       "    <tr>\n",
       "      <th>3.2</th>\n",
       "      <td>4902936.0</td>\n",
       "      <td>32.710</td>\n",
       "    </tr>\n",
       "    <tr>\n",
       "      <th>4.3</th>\n",
       "      <td>4902936.0</td>\n",
       "      <td>32.745</td>\n",
       "    </tr>\n",
       "    <tr>\n",
       "      <th>4.4</th>\n",
       "      <td>4902936.0</td>\n",
       "      <td>32.800</td>\n",
       "    </tr>\n",
       "    <tr>\n",
       "      <th>6.0</th>\n",
       "      <td>4902936.0</td>\n",
       "      <td>32.780</td>\n",
       "    </tr>\n",
       "    <tr>\n",
       "      <th>6.1</th>\n",
       "      <td>4902936.0</td>\n",
       "      <td>32.800</td>\n",
       "    </tr>\n",
       "    <tr>\n",
       "      <th>...</th>\n",
       "      <td>...</td>\n",
       "      <td>...</td>\n",
       "    </tr>\n",
       "    <tr>\n",
       "      <th>1957.7</th>\n",
       "      <td>4902936.0</td>\n",
       "      <td>34.580</td>\n",
       "    </tr>\n",
       "    <tr>\n",
       "      <th>1959.7</th>\n",
       "      <td>4902936.0</td>\n",
       "      <td>34.580</td>\n",
       "    </tr>\n",
       "    <tr>\n",
       "      <th>1961.6</th>\n",
       "      <td>4902936.0</td>\n",
       "      <td>34.580</td>\n",
       "    </tr>\n",
       "    <tr>\n",
       "      <th>1963.8</th>\n",
       "      <td>4902936.0</td>\n",
       "      <td>34.580</td>\n",
       "    </tr>\n",
       "    <tr>\n",
       "      <th>1964.7</th>\n",
       "      <td>4902936.0</td>\n",
       "      <td>34.580</td>\n",
       "    </tr>\n",
       "  </tbody>\n",
       "</table>\n",
       "<p>1592 rows × 2 columns</p>\n",
       "</div>"
      ],
      "text/plain": [
       "                   platform_code    zsal\n",
       "observation_depth                       \n",
       "3.2                    4902936.0  32.710\n",
       "4.3                    4902936.0  32.745\n",
       "4.4                    4902936.0  32.800\n",
       "6.0                    4902936.0  32.780\n",
       "6.1                    4902936.0  32.800\n",
       "...                          ...     ...\n",
       "1957.7                 4902936.0  34.580\n",
       "1959.7                 4902936.0  34.580\n",
       "1961.6                 4902936.0  34.580\n",
       "1963.8                 4902936.0  34.580\n",
       "1964.7                 4902936.0  34.580\n",
       "\n",
       "[1592 rows x 2 columns]"
      ]
     },
     "metadata": {},
     "output_type": "display_data"
    }
   ],
   "source": [
    "groupby_g5=pro_df.groupby('observation_depth').mean(numeric_only=True)\n",
    "groupby_g5.describe()\n",
    "display(groupby_g5)"
   ]
  },
  {
   "cell_type": "code",
   "execution_count": null,
   "id": "57e5b1df-8020-4c65-bfae-e548387cc8d6",
   "metadata": {},
   "outputs": [],
   "source": []
  }
 ],
 "metadata": {
  "kernelspec": {
   "display_name": "Python 3 (ipykernel)",
   "language": "python",
   "name": "python3"
  },
  "language_info": {
   "codemirror_mode": {
    "name": "ipython",
    "version": 3
   },
   "file_extension": ".py",
   "mimetype": "text/x-python",
   "name": "python",
   "nbconvert_exporter": "python",
   "pygments_lexer": "ipython3",
   "version": "3.10.10"
  }
 },
 "nbformat": 4,
 "nbformat_minor": 5
}
